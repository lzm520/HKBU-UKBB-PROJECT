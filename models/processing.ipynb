{
 "cells": [
  {
   "cell_type": "code",
   "execution_count": 1,
   "metadata": {},
   "outputs": [],
   "source": [
    "import tensorflow as tf\n",
    "import numpy as np\n",
    "import pandas as pd\n",
    "import matplotlib.pyplot as plt\n",
    "from PRS_models import *"
   ]
  },
  {
   "cell_type": "code",
   "execution_count": 3,
   "metadata": {},
   "outputs": [],
   "source": [
    "# phenotype data loading\n",
    "d_file = '../../data/features_selection/features_selection_data_dummy_data.txt'\n",
    "d_info_file = '../../data/features_selection/features_selection_data_dummy_info.csv'\n",
    "data = np.genfromtxt(d_file)\n",
    "data_info = pd.read_csv(d_info_file, header=None, names=['Type', 'id', 'Description'])"
   ]
  },
  {
   "cell_type": "code",
   "execution_count": 13,
   "metadata": {},
   "outputs": [
    {
     "data": {
      "text/html": [
       "<div>\n",
       "<style scoped>\n",
       "    .dataframe tbody tr th:only-of-type {\n",
       "        vertical-align: middle;\n",
       "    }\n",
       "\n",
       "    .dataframe tbody tr th {\n",
       "        vertical-align: top;\n",
       "    }\n",
       "\n",
       "    .dataframe thead th {\n",
       "        text-align: right;\n",
       "    }\n",
       "</style>\n",
       "<table border=\"1\" class=\"dataframe\">\n",
       "  <thead>\n",
       "    <tr style=\"text-align: right;\">\n",
       "      <th></th>\n",
       "      <th>Type</th>\n",
       "      <th>id</th>\n",
       "      <th>Description</th>\n",
       "    </tr>\n",
       "  </thead>\n",
       "  <tbody>\n",
       "    <tr>\n",
       "      <th>0</th>\n",
       "      <td>Categorical</td>\n",
       "      <td>20117_0</td>\n",
       "      <td>Alcohol drinker status</td>\n",
       "    </tr>\n",
       "    <tr>\n",
       "      <th>1</th>\n",
       "      <td>Categorical</td>\n",
       "      <td>20117_1</td>\n",
       "      <td>Alcohol drinker status</td>\n",
       "    </tr>\n",
       "    <tr>\n",
       "      <th>2</th>\n",
       "      <td>Categorical</td>\n",
       "      <td>20117_2</td>\n",
       "      <td>Alcohol drinker status</td>\n",
       "    </tr>\n",
       "    <tr>\n",
       "      <th>3</th>\n",
       "      <td>Categorical</td>\n",
       "      <td>1558_1</td>\n",
       "      <td>Alcohol intake frequency.</td>\n",
       "    </tr>\n",
       "    <tr>\n",
       "      <th>4</th>\n",
       "      <td>Categorical</td>\n",
       "      <td>1558_2</td>\n",
       "      <td>Alcohol intake frequency.</td>\n",
       "    </tr>\n",
       "    <tr>\n",
       "      <th>...</th>\n",
       "      <td>...</td>\n",
       "      <td>...</td>\n",
       "      <td>...</td>\n",
       "    </tr>\n",
       "    <tr>\n",
       "      <th>256</th>\n",
       "      <td>Categorical</td>\n",
       "      <td>3059_0</td>\n",
       "      <td>Result ranking</td>\n",
       "    </tr>\n",
       "    <tr>\n",
       "      <th>257</th>\n",
       "      <td>Categorical</td>\n",
       "      <td>3059_1</td>\n",
       "      <td>Result ranking</td>\n",
       "    </tr>\n",
       "    <tr>\n",
       "      <th>258</th>\n",
       "      <td>Categorical</td>\n",
       "      <td>3059_2</td>\n",
       "      <td>Result ranking</td>\n",
       "    </tr>\n",
       "    <tr>\n",
       "      <th>259</th>\n",
       "      <td>Categorical</td>\n",
       "      <td>3090_0</td>\n",
       "      <td>Used an inhaler for chest within last hour</td>\n",
       "    </tr>\n",
       "    <tr>\n",
       "      <th>260</th>\n",
       "      <td>Categorical</td>\n",
       "      <td>3090_1</td>\n",
       "      <td>Used an inhaler for chest within last hour</td>\n",
       "    </tr>\n",
       "  </tbody>\n",
       "</table>\n",
       "<p>261 rows × 3 columns</p>\n",
       "</div>"
      ],
      "text/plain": [
       "            Type       id                                 Description\n",
       "0    Categorical  20117_0                      Alcohol drinker status\n",
       "1    Categorical  20117_1                      Alcohol drinker status\n",
       "2    Categorical  20117_2                      Alcohol drinker status\n",
       "3    Categorical   1558_1                   Alcohol intake frequency.\n",
       "4    Categorical   1558_2                   Alcohol intake frequency.\n",
       "..           ...      ...                                         ...\n",
       "256  Categorical   3059_0                              Result ranking\n",
       "257  Categorical   3059_1                              Result ranking\n",
       "258  Categorical   3059_2                              Result ranking\n",
       "259  Categorical   3090_0  Used an inhaler for chest within last hour\n",
       "260  Categorical   3090_1  Used an inhaler for chest within last hour\n",
       "\n",
       "[261 rows x 3 columns]"
      ]
     },
     "execution_count": 13,
     "metadata": {},
     "output_type": "execute_result"
    }
   ],
   "source": [
    "data_info"
   ]
  },
  {
   "cell_type": "code",
   "execution_count": null,
   "metadata": {},
   "outputs": [],
   "source": [
    "numerical_phenotype_idx = []\n",
    "classification_phenotype_idx = []\n",
    "idx = 0\n",
    "while idx < data_info.shape[0]:\n",
    "    k = idx\n",
    "    id = str.split(data_info.iloc[idx]['id'], sep='_')[0]\n",
    "    if not data_info.iloc[idx]['Type'] == 'Categorical':\n",
    "        numerical_phenotype_idx.append(idx)\n",
    "    else:\n",
    "        while k < data_info.shape[0]:\n",
    "            if str.startswith(data_info.iloc[k]['id'], id):\n",
    "                k += 1\n",
    "        classification_phenotype_idx.append((idx, k+1))"
   ]
  },
  {
   "cell_type": "code",
   "execution_count": 14,
   "metadata": {},
   "outputs": [
    {
     "data": {
      "text/plain": [
       "'20117_1'"
      ]
     },
     "execution_count": 14,
     "metadata": {},
     "output_type": "execute_result"
    }
   ],
   "source": [
    "data_info.iloc[1]['id']"
   ]
  },
  {
   "cell_type": "code",
   "execution_count": null,
   "metadata": {},
   "outputs": [],
   "source": []
  }
 ],
 "metadata": {
  "interpreter": {
   "hash": "ef9f5ddf6b2361146ccaf8597208626063cff5260dcae8e3db9a1946f53be05d"
  },
  "kernelspec": {
   "display_name": "Python 3.7.10 ('TF2.1')",
   "language": "python",
   "name": "python3"
  },
  "language_info": {
   "codemirror_mode": {
    "name": "ipython",
    "version": 3
   },
   "file_extension": ".py",
   "mimetype": "text/x-python",
   "name": "python",
   "nbconvert_exporter": "python",
   "pygments_lexer": "ipython3",
   "version": "3.7.10"
  },
  "orig_nbformat": 4
 },
 "nbformat": 4,
 "nbformat_minor": 2
}
